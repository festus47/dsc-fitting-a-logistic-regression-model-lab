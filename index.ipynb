{
 "cells": [
  {
   "cell_type": "markdown",
   "metadata": {},
   "source": [
    "# Fitting a Logistic Regression Model - Lab\n",
    "\n",
    "## Introduction\n",
    "\n",
    "In the last lesson you were given a broad overview of logistic regression. This included an introduction to two separate packages for creating logistic regression models. In this lab, you'll be investigating fitting logistic regressions with `statsmodels`. For your first foray into logistic regression, you are going to attempt to build a model that classifies whether an individual survived the [Titanic](https://www.kaggle.com/c/titanic/data) shipwreck or not (yes, it's a bit morbid).\n",
    "\n",
    "\n",
    "## Objectives\n",
    "\n",
    "In this lab you will: \n",
    "\n",
    "* Implement logistic regression with `statsmodels` \n",
    "* Interpret the statistical results associated with model parameters"
   ]
  },
  {
   "cell_type": "markdown",
   "metadata": {},
   "source": [
    "## Import the data\n",
    "\n",
    "Import the data stored in the file `'titanic.csv'` and print the first five rows of the DataFrame to check its contents. "
   ]
  },
  {
   "cell_type": "code",
   "execution_count": 3,
   "metadata": {},
   "outputs": [
    {
     "data": {
      "text/html": [
       "<div>\n",
       "<style scoped>\n",
       "    .dataframe tbody tr th:only-of-type {\n",
       "        vertical-align: middle;\n",
       "    }\n",
       "\n",
       "    .dataframe tbody tr th {\n",
       "        vertical-align: top;\n",
       "    }\n",
       "\n",
       "    .dataframe thead th {\n",
       "        text-align: right;\n",
       "    }\n",
       "</style>\n",
       "<table border=\"1\" class=\"dataframe\">\n",
       "  <thead>\n",
       "    <tr style=\"text-align: right;\">\n",
       "      <th></th>\n",
       "      <th>Survived</th>\n",
       "      <th>Pclass</th>\n",
       "      <th>Name</th>\n",
       "      <th>Sex</th>\n",
       "      <th>Age</th>\n",
       "      <th>SibSp</th>\n",
       "      <th>Parch</th>\n",
       "      <th>Ticket</th>\n",
       "      <th>Fare</th>\n",
       "      <th>Cabin</th>\n",
       "      <th>Embarked</th>\n",
       "    </tr>\n",
       "    <tr>\n",
       "      <th>PassengerId</th>\n",
       "      <th></th>\n",
       "      <th></th>\n",
       "      <th></th>\n",
       "      <th></th>\n",
       "      <th></th>\n",
       "      <th></th>\n",
       "      <th></th>\n",
       "      <th></th>\n",
       "      <th></th>\n",
       "      <th></th>\n",
       "      <th></th>\n",
       "    </tr>\n",
       "  </thead>\n",
       "  <tbody>\n",
       "    <tr>\n",
       "      <th>1</th>\n",
       "      <td>0</td>\n",
       "      <td>3</td>\n",
       "      <td>Braund, Mr. Owen Harris</td>\n",
       "      <td>male</td>\n",
       "      <td>22.0</td>\n",
       "      <td>1</td>\n",
       "      <td>0</td>\n",
       "      <td>A/5 21171</td>\n",
       "      <td>7.2500</td>\n",
       "      <td>NaN</td>\n",
       "      <td>S</td>\n",
       "    </tr>\n",
       "    <tr>\n",
       "      <th>2</th>\n",
       "      <td>1</td>\n",
       "      <td>1</td>\n",
       "      <td>Cumings, Mrs. John Bradley (Florence Briggs Th...</td>\n",
       "      <td>female</td>\n",
       "      <td>38.0</td>\n",
       "      <td>1</td>\n",
       "      <td>0</td>\n",
       "      <td>PC 17599</td>\n",
       "      <td>71.2833</td>\n",
       "      <td>C85</td>\n",
       "      <td>C</td>\n",
       "    </tr>\n",
       "    <tr>\n",
       "      <th>3</th>\n",
       "      <td>1</td>\n",
       "      <td>3</td>\n",
       "      <td>Heikkinen, Miss. Laina</td>\n",
       "      <td>female</td>\n",
       "      <td>26.0</td>\n",
       "      <td>0</td>\n",
       "      <td>0</td>\n",
       "      <td>STON/O2. 3101282</td>\n",
       "      <td>7.9250</td>\n",
       "      <td>NaN</td>\n",
       "      <td>S</td>\n",
       "    </tr>\n",
       "    <tr>\n",
       "      <th>4</th>\n",
       "      <td>1</td>\n",
       "      <td>1</td>\n",
       "      <td>Futrelle, Mrs. Jacques Heath (Lily May Peel)</td>\n",
       "      <td>female</td>\n",
       "      <td>35.0</td>\n",
       "      <td>1</td>\n",
       "      <td>0</td>\n",
       "      <td>113803</td>\n",
       "      <td>53.1000</td>\n",
       "      <td>C123</td>\n",
       "      <td>S</td>\n",
       "    </tr>\n",
       "    <tr>\n",
       "      <th>5</th>\n",
       "      <td>0</td>\n",
       "      <td>3</td>\n",
       "      <td>Allen, Mr. William Henry</td>\n",
       "      <td>male</td>\n",
       "      <td>35.0</td>\n",
       "      <td>0</td>\n",
       "      <td>0</td>\n",
       "      <td>373450</td>\n",
       "      <td>8.0500</td>\n",
       "      <td>NaN</td>\n",
       "      <td>S</td>\n",
       "    </tr>\n",
       "  </tbody>\n",
       "</table>\n",
       "</div>"
      ],
      "text/plain": [
       "             Survived  Pclass  \\\n",
       "PassengerId                     \n",
       "1                   0       3   \n",
       "2                   1       1   \n",
       "3                   1       3   \n",
       "4                   1       1   \n",
       "5                   0       3   \n",
       "\n",
       "                                                          Name     Sex   Age  \\\n",
       "PassengerId                                                                    \n",
       "1                                      Braund, Mr. Owen Harris    male  22.0   \n",
       "2            Cumings, Mrs. John Bradley (Florence Briggs Th...  female  38.0   \n",
       "3                                       Heikkinen, Miss. Laina  female  26.0   \n",
       "4                 Futrelle, Mrs. Jacques Heath (Lily May Peel)  female  35.0   \n",
       "5                                     Allen, Mr. William Henry    male  35.0   \n",
       "\n",
       "             SibSp  Parch            Ticket     Fare Cabin Embarked  \n",
       "PassengerId                                                          \n",
       "1                1      0         A/5 21171   7.2500   NaN        S  \n",
       "2                1      0          PC 17599  71.2833   C85        C  \n",
       "3                0      0  STON/O2. 3101282   7.9250   NaN        S  \n",
       "4                1      0            113803  53.1000  C123        S  \n",
       "5                0      0            373450   8.0500   NaN        S  "
      ]
     },
     "execution_count": 3,
     "metadata": {},
     "output_type": "execute_result"
    }
   ],
   "source": [
    "import pandas as pd\n",
    "\n",
    "# Import the data\n",
    "df = pd.read_csv('titanic.csv', index_col=0)\n",
    "\n",
    "# Display the first five rows of the DataFrame\n",
    "df.head()\n"
   ]
  },
  {
   "cell_type": "markdown",
   "metadata": {},
   "source": [
    "## Define independent and target variables\n",
    "\n",
    "Your target variable is in the column `'Survived'`. A `0` indicates that the passenger didn't survive the shipwreck. Print the total number of people who didn't survive the shipwreck. How many people survived?"
   ]
  },
  {
   "cell_type": "code",
   "execution_count": 4,
   "metadata": {},
   "outputs": [
    {
     "name": "stdout",
     "output_type": "stream",
     "text": [
      "Total number of people who didn't survive: 549\n",
      "Total number of people who survived: 342\n"
     ]
    }
   ],
   "source": [
    "# Total number of people who survived/didn't survive\n",
    "# Define the target variable (y)\n",
    "y = df['Survived']\n",
    "\n",
    "# Print the total number of people who didn't survive (0) and those who survived (1)\n",
    "num_not_survived = (y == 0).sum()\n",
    "num_survived = (y == 1).sum()\n",
    "\n",
    "print(f\"Total number of people who didn't survive: {num_not_survived}\")\n",
    "print(f\"Total number of people who survived: {num_survived}\")"
   ]
  },
  {
   "cell_type": "markdown",
   "metadata": {},
   "source": [
    "Only consider the columns specified in `relevant_columns` when building your model. The next step is to create dummy variables from categorical variables. Remember to drop the first level for each categorical column and make sure all the values are of type `float`: "
   ]
  },
  {
   "cell_type": "code",
   "execution_count": 5,
   "metadata": {},
   "outputs": [
    {
     "data": {
      "text/plain": [
       "(891, 8)"
      ]
     },
     "execution_count": 5,
     "metadata": {},
     "output_type": "execute_result"
    }
   ],
   "source": [
    "# Create dummy variables\n",
    "relevant_columns = ['Pclass', 'Age', 'SibSp', 'Fare', 'Sex', 'Embarked', 'Survived']\n",
    "df_relevant = df[relevant_columns]\n",
    "\n",
    "dummy_dataframe = pd.get_dummies(df_relevant, drop_first=True).astype(float)\n",
    "\n",
    "dummy_dataframe.shape"
   ]
  },
  {
   "cell_type": "markdown",
   "metadata": {},
   "source": [
    "Did you notice above that the DataFrame contains missing values? To keep things simple, simply delete all rows with missing values. \n",
    "\n",
    "> NOTE: You can use the [`.dropna()`](https://pandas.pydata.org/pandas-docs/stable/reference/api/pandas.DataFrame.dropna.html) method to do this. "
   ]
  },
  {
   "cell_type": "code",
   "execution_count": 6,
   "metadata": {},
   "outputs": [
    {
     "data": {
      "text/plain": [
       "(714, 8)"
      ]
     },
     "execution_count": 6,
     "metadata": {},
     "output_type": "execute_result"
    }
   ],
   "source": [
    "# Drop missing rows\n",
    "dummy_dataframe = dummy_dataframe.dropna()\n",
    "dummy_dataframe.shape"
   ]
  },
  {
   "cell_type": "markdown",
   "metadata": {},
   "source": [
    "Finally, assign the independent variables to `X` and the target variable to `y`: "
   ]
  },
  {
   "cell_type": "code",
   "execution_count": 8,
   "metadata": {},
   "outputs": [],
   "source": [
    "# Split the data into X and y\n",
    "y = dummy_dataframe['Survived']\n",
    "X = dummy_dataframe.drop(columns=['Survived'])"
   ]
  },
  {
   "cell_type": "markdown",
   "metadata": {},
   "source": [
    "## Fit the model\n",
    "\n",
    "Now with everything in place, you can build a logistic regression model using `statsmodels` (make sure you create an intercept term as we showed in the previous lesson).  \n",
    "\n",
    "> Warning: Did you receive an error of the form \"LinAlgError: Singular matrix\"? This means that `statsmodels` was unable to fit the model due to certain linear algebra computational problems. Specifically, the matrix was not invertible due to not being full rank. In other words, there was a lot of redundant, superfluous data. Try removing some features from the model and running it again."
   ]
  },
  {
   "cell_type": "code",
   "execution_count": 9,
   "metadata": {},
   "outputs": [
    {
     "name": "stdout",
     "output_type": "stream",
     "text": [
      "Optimization terminated successfully.\n",
      "         Current function value: 0.443267\n",
      "         Iterations 6\n",
      "                           Logit Regression Results                           \n",
      "==============================================================================\n",
      "Dep. Variable:               Survived   No. Observations:                  714\n",
      "Model:                          Logit   Df Residuals:                      706\n",
      "Method:                           MLE   Df Model:                            7\n",
      "Date:                Mon, 19 Aug 2024   Pseudo R-squ.:                  0.3437\n",
      "Time:                        20:39:51   Log-Likelihood:                -316.49\n",
      "converged:                       True   LL-Null:                       -482.26\n",
      "Covariance Type:            nonrobust   LLR p-value:                 1.103e-67\n",
      "==============================================================================\n",
      "                 coef    std err          z      P>|z|      [0.025      0.975]\n",
      "------------------------------------------------------------------------------\n",
      "const          5.6503      0.633      8.921      0.000       4.409       6.892\n",
      "Pclass        -1.2118      0.163     -7.433      0.000      -1.531      -0.892\n",
      "Age           -0.0431      0.008     -5.250      0.000      -0.059      -0.027\n",
      "SibSp         -0.3806      0.125     -3.048      0.002      -0.625      -0.136\n",
      "Fare           0.0012      0.002      0.474      0.636      -0.004       0.006\n",
      "Sex_male      -2.6236      0.217    -12.081      0.000      -3.049      -2.198\n",
      "Embarked_Q    -0.8260      0.598     -1.381      0.167      -1.999       0.347\n",
      "Embarked_S    -0.4130      0.269     -1.533      0.125      -0.941       0.115\n",
      "==============================================================================\n"
     ]
    }
   ],
   "source": [
    "# Build a logistic regression model using statsmodels\n",
    "import statsmodels.api as sm\n",
    "\n",
    "# Add an intercept term to X\n",
    "X = sm.add_constant(X)\n",
    "\n",
    "# Fit the logistic regression model\n",
    "logit_model = sm.Logit(y, X)\n",
    "result = logit_model.fit()\n",
    "\n",
    "# Print the summary of the model\n",
    "print(result.summary())"
   ]
  },
  {
   "cell_type": "markdown",
   "metadata": {},
   "source": [
    "## Analyze results\n",
    "\n",
    "Generate the summary table for your model. Then, comment on the p-values associated with the various features you chose."
   ]
  },
  {
   "cell_type": "markdown",
   "metadata": {},
   "source": [
    "# Summary table\n",
    "## Model Overview\n",
    "### Dependent Variable (Dep. Variable): \n",
    "Survived — Indicates whether a passenger survived (1) or not (0).\n",
    "Number of Observations (No. Observations): 714 — The total number of samples used in the model.\n",
    "### Log-Likelihood (Log-Likelihood):\n",
    "-316.49 — The log-likelihood of the fitted model.\n",
    "### Pseudo R-squared (Pseudo R-squ.): \n",
    "0.3437 — A measure of model fit; higher values indicate better fit.\n",
    "### LL-Null (LL-Null): \n",
    "-482.26 — The log-likelihood of the null model (model with no predictors).\n",
    "### LR p-value (LLR p-value): \n",
    "1.103e-67 — Indicates whether the model is statistically significant. A very low p-value suggests the model is statistically significant.\n",
    "\n",
    "## Coefficients Table\n",
    "The coefficients table provides information about each predictor in the model:\n",
    "\n",
    "### const: \n",
    "The intercept term with a coefficient of 5.6503. This is the log-odds of the baseline probability when all predictors are zero.\n",
    "\n",
    "### Pclass: \n",
    "Coefficient of -1.2118. A one-unit increase in the passenger class decreases the log-odds of survival by 1.2118, which implies lower class passengers had lower odds of survival.\n",
    "\n",
    "### Age: \n",
    "Coefficient of -0.0431. Each additional year of age decreases the log-odds of survival by 0.0431, indicating older passengers had lower odds of survival.\n",
    "\n",
    "### SibSp: \n",
    "Coefficient of -0.3806. Each additional sibling or spouse on board decreases the log-odds of survival by 0.3806. Having more family members aboard was associated with lower survival odds.\n",
    "\n",
    "### Fare: \n",
    "Coefficient of 0.0012. Each additional unit of fare increases the log-odds of survival by 0.0012, though the effect is not statistically significant (p-value = 0.636).\n",
    "\n",
    "### Sex_male: \n",
    "Coefficient of -2.6236. Being male decreases the log-odds of survival by 2.6236 compared to females, indicating males had lower odds of survival.\n",
    "\n",
    "### Embarked_Q: \n",
    "Coefficient of -0.8260. Embarking from port Q decreases the log-odds of survival by 0.8260, though this effect is not statistically significant (p-value = 0.167).\n",
    "\n",
    "### Embarked_S: \n",
    "Coefficient of -0.4130. Embarking from port S decreases the log-odds of survival by 0.4130, also not statistically significant (p-value = 0.125)."
   ]
  },
  {
   "cell_type": "markdown",
   "metadata": {},
   "source": [
    "# Interpretation\n",
    "## Coefficients: \n",
    "Show the change in the log-odds of the outcome (survival) for a one-unit change in the predictor.\n",
    "## Standard Error (std err): \n",
    "Measures the variability of the coefficient estimate.\n",
    "## z-value (z): \n",
    "The coefficient divided by its standard error; used to test the null hypothesis that the coefficient is zero.\n",
    "## P-value (P>|z|): \n",
    "Tests the null hypothesis that the coefficient is zero; a value less than 0.05 generally indicates statistical significance.\n",
    "## Confidence Interval ([0.025, 0.975]): \n",
    "Provides a range within which the true coefficient value is likely to fall, with 95% confidence.\n"
   ]
  },
  {
   "cell_type": "markdown",
   "metadata": {},
   "source": [
    "## Level up (Optional)\n",
    "\n",
    "Create a new model, this time only using those features you determined were influential based on your analysis of the results above. How does this model perform?"
   ]
  },
  {
   "cell_type": "code",
   "execution_count": 10,
   "metadata": {},
   "outputs": [
    {
     "name": "stdout",
     "output_type": "stream",
     "text": [
      "Optimization terminated successfully.\n",
      "         Current function value: 0.445882\n",
      "         Iterations 6\n",
      "                           Logit Regression Results                           \n",
      "==============================================================================\n",
      "Dep. Variable:               Survived   No. Observations:                  714\n",
      "Model:                          Logit   Df Residuals:                      709\n",
      "Method:                           MLE   Df Model:                            4\n",
      "Date:                Mon, 19 Aug 2024   Pseudo R-squ.:                  0.3399\n",
      "Time:                        20:51:56   Log-Likelihood:                -318.36\n",
      "converged:                       True   LL-Null:                       -482.26\n",
      "Covariance Type:            nonrobust   LLR p-value:                 1.089e-69\n",
      "==============================================================================\n",
      "                 coef    std err          z      P>|z|      [0.025      0.975]\n",
      "------------------------------------------------------------------------------\n",
      "const          5.6008      0.543     10.306      0.000       4.536       6.666\n",
      "Pclass        -1.3174      0.141     -9.350      0.000      -1.594      -1.041\n",
      "Age           -0.0444      0.008     -5.442      0.000      -0.060      -0.028\n",
      "SibSp         -0.3761      0.121     -3.106      0.002      -0.613      -0.139\n",
      "Sex_male      -2.6235      0.215    -12.229      0.000      -3.044      -2.203\n",
      "==============================================================================\n"
     ]
    }
   ],
   "source": [
    "# Your code here\n",
    "# Select only the significant features\n",
    "significant_features = ['Pclass', 'Age', 'SibSp', 'Sex_male', 'Survived']\n",
    "X_significant = dummy_dataframe[significant_features].drop(columns=['Survived'])\n",
    "y_significant = dummy_dataframe['Survived']\n",
    "\n",
    "# Add an intercept term to the significant features\n",
    "X_significant = sm.add_constant(X_significant)\n",
    "\n",
    "# Fit the logistic regression model with only significant features\n",
    "logit_model_significant = sm.Logit(y_significant, X_significant)\n",
    "result_significant = logit_model_significant.fit()\n",
    "\n",
    "# Print the summary of the new model\n",
    "print(result_significant.summary())"
   ]
  },
  {
   "cell_type": "markdown",
   "metadata": {},
   "source": [
    "# Analysis:\n",
    "## Pseudo R-squared:\n",
    "\n",
    "Previous Model: 0.3437\n",
    "New Model: 0.3399\n",
    "The Pseudo R-squared of the new model is slightly lower than the previous model. This indicates a minor decrease in the proportion of variance explained by the model. However, the change is quite small.\n",
    "\n",
    "## Log-Likelihood:\n",
    "\n",
    "Previous Model: -316.49\n",
    "New Model: -318.36\n",
    "The Log-Likelihood of the new model is slightly worse (more negative) than the previous model, which means the fit is marginally worse.\n",
    "\n",
    "## Coefficients and p-values:\n",
    "\n",
    "*Intercept (const)*: Coefficient of 5.6008 with a p-value of 0.000, similar to the previous model.\n",
    "*Pclass*: Coefficient of -1.3174 (previously -1.2118) with a p-value of 0.000, showing it is a strong predictor.\n",
    "*Age*: Coefficient of -0.0444 (previously -0.0431) with a p-value of 0.000, still significant.\n",
    "*SibSp*: Coefficient of -0.3761 (previously -0.3806) with a p-value of 0.002, also significant.\n",
    "*Sex_male*: Coefficient of -2.6235 (previously -2.6236) with a p-value of 0.000, maintaining its importance."
   ]
  },
  {
   "cell_type": "markdown",
   "metadata": {},
   "source": [
    "## Summary \n",
    "\n",
    "Well done! In this lab, you practiced using `statsmodels` to build a logistic regression model. You then interpreted the results, building upon your previous stats knowledge, similar to linear regression. Continue on to take a look at building logistic regression models in Scikit-learn!"
   ]
  }
 ],
 "metadata": {
  "kernelspec": {
   "display_name": "Python 3",
   "language": "python",
   "name": "python3"
  },
  "language_info": {
   "codemirror_mode": {
    "name": "ipython",
    "version": 3
   },
   "file_extension": ".py",
   "mimetype": "text/x-python",
   "name": "python",
   "nbconvert_exporter": "python",
   "pygments_lexer": "ipython3",
   "version": "3.8.5"
  }
 },
 "nbformat": 4,
 "nbformat_minor": 2
}
